{
 "cells": [
  {
   "cell_type": "code",
   "execution_count": 1,
   "metadata": {},
   "outputs": [],
   "source": [
    "import cmath\n",
    "import functools\n",
    "import math\n",
    "import operator\n",
    "\n",
    "import matplotlib.pyplot as plt\n",
    "%matplotlib inline"
   ]
  },
  {
   "cell_type": "code",
   "execution_count": 2,
   "metadata": {},
   "outputs": [],
   "source": [
    "def exp_by_limit(z: complex, n: int = 10) -> complex:\n",
    "    \"\"\"極限値による定義\"\"\"\n",
    "\n",
    "    N = 10 ** n\n",
    "    return pow(1 + z / N, N)"
   ]
  },
  {
   "cell_type": "code",
   "execution_count": 3,
   "metadata": {},
   "outputs": [],
   "source": [
    "def factorial(n: int):\n",
    "    return functools.reduce(operator.mul, range(1, n + 1), 1)\n",
    "\n",
    "\n",
    "def exp_by_series(z: complex, n: int = 30) -> complex:\n",
    "    \"\"\"無限級数による定義\"\"\"\n",
    "\n",
    "    return sum(pow(z, i) / factorial(i) for i in range(n))"
   ]
  },
  {
   "cell_type": "code",
   "execution_count": 4,
   "metadata": {},
   "outputs": [],
   "source": [
    "def exp_by_real_func(z: complex) -> complex:\n",
    "    \"\"\"実関数による定義\"\"\"\n",
    "    x, y = z.real, z.imag\n",
    "    i = 0 + 1j\n",
    "    return math.exp(x) * (math.cos(y) + math.sin(y) * i)"
   ]
  },
  {
   "cell_type": "code",
   "execution_count": 5,
   "metadata": {},
   "outputs": [
    {
     "data": {
      "text/plain": [
       "(-1+5.66553889764798e-16j)"
      ]
     },
     "execution_count": 5,
     "metadata": {},
     "output_type": "execute_result"
    }
   ],
   "source": [
    "exp_by_limit(cmath.pi * (0 + 1j))"
   ]
  },
  {
   "cell_type": "code",
   "execution_count": 6,
   "metadata": {},
   "outputs": [
    {
     "data": {
      "text/plain": [
       "(-1.0000000000000002+3.461777852236587e-16j)"
      ]
     },
     "execution_count": 6,
     "metadata": {},
     "output_type": "execute_result"
    }
   ],
   "source": [
    "exp_by_series(cmath.pi * (0 + 1j))"
   ]
  },
  {
   "cell_type": "code",
   "execution_count": 7,
   "metadata": {},
   "outputs": [
    {
     "data": {
      "text/plain": [
       "(-1+1.2246467991473532e-16j)"
      ]
     },
     "execution_count": 7,
     "metadata": {},
     "output_type": "execute_result"
    }
   ],
   "source": [
    "exp_by_real_func(cmath.pi * (0 + 1j))"
   ]
  },
  {
   "cell_type": "code",
   "execution_count": 8,
   "metadata": {},
   "outputs": [
    {
     "data": {
      "text/plain": [
       "(-1+1.2246467991473532e-16j)"
      ]
     },
     "execution_count": 8,
     "metadata": {},
     "output_type": "execute_result"
    }
   ],
   "source": [
    "cmath.exp(cmath.pi * (0 + 1j))"
   ]
  },
  {
   "cell_type": "code",
   "execution_count": 9,
   "metadata": {},
   "outputs": [
    {
     "data": {
      "text/plain": [
       "2.7182818284590455"
      ]
     },
     "execution_count": 9,
     "metadata": {},
     "output_type": "execute_result"
    }
   ],
   "source": [
    "exp_by_series(1)"
   ]
  },
  {
   "cell_type": "code",
   "execution_count": 10,
   "metadata": {},
   "outputs": [],
   "source": [
    "def cos_by_series(z, n=30):\n",
    "    return sum((-1) ** i * pow(z, 2 * i) / factorial(2 * i) for i in range(n))"
   ]
  },
  {
   "cell_type": "code",
   "execution_count": 11,
   "metadata": {},
   "outputs": [],
   "source": [
    "def cos_by_exp(z):\n",
    "    i = 0 + 1j\n",
    "    return (cmath.exp(i * z) + cmath.exp(-i * z)) / 2"
   ]
  },
  {
   "cell_type": "code",
   "execution_count": 12,
   "metadata": {},
   "outputs": [
    {
     "data": {
      "text/plain": [
       "(-1.0000000000000002+0j)"
      ]
     },
     "execution_count": 12,
     "metadata": {},
     "output_type": "execute_result"
    }
   ],
   "source": [
    "cos_by_series(cmath.pi + 0j)"
   ]
  },
  {
   "cell_type": "code",
   "execution_count": 13,
   "metadata": {},
   "outputs": [
    {
     "data": {
      "text/plain": [
       "(-1+0j)"
      ]
     },
     "execution_count": 13,
     "metadata": {},
     "output_type": "execute_result"
    }
   ],
   "source": [
    "cos_by_exp(cmath.pi + 0j)"
   ]
  },
  {
   "cell_type": "code",
   "execution_count": 14,
   "metadata": {},
   "outputs": [
    {
     "data": {
      "text/plain": [
       "(-1-0j)"
      ]
     },
     "execution_count": 14,
     "metadata": {},
     "output_type": "execute_result"
    }
   ],
   "source": [
    "cmath.cos(cmath.pi + 0j)"
   ]
  },
  {
   "cell_type": "code",
   "execution_count": 51,
   "metadata": {},
   "outputs": [],
   "source": [
    "def is_mandelbrot_set_point(c: complex) -> bool:\n",
    "    z = complex(0, 0)\n",
    "    for _ in range(1000):\n",
    "        z = z**2 + c\n",
    "        if abs(z) > 2:\n",
    "            return False\n",
    "    else:\n",
    "        return  True"
   ]
  },
  {
   "cell_type": "code",
   "execution_count": 54,
   "metadata": {},
   "outputs": [
    {
     "data": {
      "text/plain": [
       "[<matplotlib.lines.Line2D at 0x11e6b2588>]"
      ]
     },
     "execution_count": 54,
     "metadata": {},
     "output_type": "execute_result"
    },
    {
     "data": {
      "image/png": "[encoded data removed]",
      "text/plain": [
       "<Figure size 432x288 with 1 Axes>"
      ]
     },
     "metadata": {
      "needs_background": "light"
     },
     "output_type": "display_data"
    }
   ],
   "source": [
    "import itertools\n",
    "import numpy as np\n",
    "\n",
    "# xs = np.linspace(-2, 2)\n",
    "# ys = np.linspace(-2, 2)\n",
    "\n",
    "# f = np.vectorize(is_mandelbrot_set_point)\n",
    "# cs = np.array([complex(x, y) for x, y in itertools.product(x, y)])\n",
    "\n",
    "# cs\n",
    "# xx, yy = f(np.meshgrid(x, y))\n",
    "\n",
    "\n",
    "# for \n",
    "\n",
    "import itertools\n",
    "xs = []\n",
    "ys = []\n",
    "for x, y in itertools.product(np.linspace(-2, 2, num=1000), np.linspace(-2, 2,  num=1000)):\n",
    "    if is_mandelbrot_set_in(complex(x, y)):\n",
    "        xs.append(x)\n",
    "        ys.append(y)\n",
    "\n",
    "plt.axis('off')\n",
    "plt.plot(xs, ys, \".\", color=\"k\")"
   ]
  },
  {
   "cell_type": "code",
   "execution_count": null,
   "metadata": {},
   "outputs": [],
   "source": []
  }
 ],
 "metadata": {
  "kernelspec": {
   "display_name": "Python 3",
   "language": "python",
   "name": "python3"
  },
  "language_info": {
   "codemirror_mode": {
    "name": "ipython",
    "version": 3
   },
   "file_extension": ".py",
   "mimetype": "text/x-python",
   "name": "python",
   "nbconvert_exporter": "python",
   "pygments_lexer": "ipython3",
   "version": "3.7.3"
  }
 },
 "nbformat": 4,
 "nbformat_minor": 4
}
